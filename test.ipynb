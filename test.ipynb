{
 "cells": [
  {
   "cell_type": "code",
   "execution_count": null,
   "metadata": {},
   "outputs": [],
   "source": [
    "import jnius_config\n",
    "jnius_config.set_classpath(\"target/anserini-0.2.1-SNAPSHOT-fatjar.jar\")\n",
    "\n",
    "from jnius import autoclass\n",
    "JString = autoclass('java.lang.String')\n",
    "JSearcher = autoclass('io.anserini.search.SimpleSearcher')\n",
    "\n",
    "searcher = JSearcher(JString('/tuna1/indexes/lucene-index.robust04.pos+docvectors+rawdocs'))\n",
    "hits = searcher.search(JString('hubble space telescope'))"
   ]
  }
 ],
 "metadata": {
  "kernelspec": {
   "display_name": "Python 3",
   "language": "python",
   "name": "python3"
  },
  "language_info": {
   "codemirror_mode": {
    "name": "ipython",
    "version": 3
   },
   "file_extension": ".py",
   "mimetype": "text/x-python",
   "name": "python",
   "nbconvert_exporter": "python",
   "pygments_lexer": "ipython3",
   "version": "3.6.4"
  }
 },
 "nbformat": 4,
 "nbformat_minor": 2
}
