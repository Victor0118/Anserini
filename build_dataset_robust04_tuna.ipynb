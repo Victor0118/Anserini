{
 "cells": [
  {
   "cell_type": "markdown",
   "metadata": {},
   "source": [
    "```shell\n",
    "nohup target/appassembler/bin/SearchCollection -topicreader Trec -index /tuna1/indexes/lucene-index.robust04.pos+docvectors+rawdocs/ -topics src/main/resources/topics-and-qrels/topics.robust04.301-450.601-700.txt -output run.robust04.bm25.topics.robust04.301-450.601-700.txt -bm25 & \n",
    "```"
   ]
  },
  {
   "cell_type": "markdown",
   "metadata": {},
   "source": [
    "```shell\n",
    "python gen_test_robust.py\n",
    "```"
   ]
  },
  {
   "cell_type": "code",
   "execution_count": 19,
   "metadata": {},
   "outputs": [
    {
     "data": {
      "text/plain": [
       "'/home/w85yang/Anserini/Anserini'"
      ]
     },
     "execution_count": 19,
     "metadata": {},
     "output_type": "execute_result"
    }
   ],
   "source": [
    "pwd"
   ]
  },
  {
   "cell_type": "code",
   "execution_count": 10,
   "metadata": {},
   "outputs": [
    {
     "name": "stdout",
     "output_type": "stream",
     "text": [
      "CPU times: user 352 ms, sys: 4 ms, total: 356 ms\n",
      "Wall time: 353 ms\n"
     ]
    }
   ],
   "source": [
    "%%time\n",
    "# generate data from qrels file through SimpleSearcher\n",
    "ftopic = \"src/main/resources/topics-and-qrels/topics.robust04.301-450.601-700.txt\"\n",
    "fqrel = \"src/main/resources/topics-and-qrels/qrels.robust2004.txt\"\n",
    "qid2query = get_qid2query(ftopic)\n",
    "qid2reldocids = get_qid2reldocids(fqrel)\n"
   ]
  },
  {
   "cell_type": "code",
   "execution_count": 42,
   "metadata": {},
   "outputs": [
    {
     "data": {
      "text/plain": [
       "250"
      ]
     },
     "execution_count": 42,
     "metadata": {},
     "output_type": "execute_result"
    }
   ],
   "source": [
    "len(qid2query)"
   ]
  },
  {
   "cell_type": "code",
   "execution_count": 30,
   "metadata": {
    "collapsed": true
   },
   "outputs": [],
   "source": [
    "import string\n",
    "printable = set(string.printable)\n",
    "printable.remove(\"\\n\")\n",
    "printable.remove(\"\\t\")\n",
    "printable.remove(\"\\r\")\n",
    "import json \n",
    "\n",
    "from nltk.tokenize import word_tokenize"
   ]
  },
  {
   "cell_type": "code",
   "execution_count": 9,
   "metadata": {
    "collapsed": true
   },
   "outputs": [],
   "source": [
    "def get_qid2query(ftopic):\n",
    "    qid2query = {}\n",
    "    f = open(ftopic)\n",
    "    query_tag = \"title\"\n",
    "    empty = False\n",
    "    for l in f:\n",
    "        if empty == True:\n",
    "            qid2query[qid] = l.replace(\"\\n\", \"\").strip()\n",
    "            empty = False\n",
    "        ind = l.find(\"Number: \")\n",
    "        if ind >= 0:\n",
    "            qid = l[ind+8:-1]\n",
    "            qid = int(qid) \n",
    "        ind = l.find(\"<{}>\".format(query_tag))\n",
    "        if ind >= 0:\n",
    "            query = l[ind+8:-1].strip()\n",
    "            if len(query) == 0:\n",
    "                empty = True\n",
    "            else:\n",
    "                qid2query[qid] = query\n",
    "    return qid2query\n",
    "\n",
    "def getdoc(docid, folder):\n",
    "    f = open(\"{}/{}\".format(folder, docid))\n",
    "    see_text = False\n",
    "    doc = \"\"\n",
    "    for l in f:\n",
    "        l = l.replace(\"\\n\", \"\").strip()\n",
    "        if l == \"</TEXT>\":\n",
    "            break\n",
    "        if see_text:\n",
    "            if len(l) > 0:\n",
    "                doc += l + \" \"\n",
    "        elif \"[Text]\" in l:\n",
    "            see_text = True\n",
    "            doc += l[len(\"[Text]\") + 1:] + \" \"\n",
    "    return doc.strip()\n",
    "\n",
    "def get_qid2reldocids(fqrel):\n",
    "    f = open(fqrel)\n",
    "    qid2reldocids = {}\n",
    "    for l in f:\n",
    "        qid, _, docid, score = l.replace(\"\\n\", \"\").strip().split()\n",
    "        qid = int(qid)\n",
    "        if score != \"0\":\n",
    "            if qid not in qid2reldocids:\n",
    "                qid2reldocids[qid] = set()\n",
    "            qid2reldocids[qid].add(docid)\n",
    "    return qid2reldocids\n",
    "\n",
    "def get_doc_from_index(indexes, docid):\n",
    "    doc_raw = indexes.getRawDocument(JString(docid))\n",
    "    doc = json.loads(doc_raw)['text']\n",
    "    return doc"
   ]
  },
  {
   "cell_type": "code",
   "execution_count": 40,
   "metadata": {},
   "outputs": [
    {
     "data": {
      "text/plain": [
       "'The Capois Lamort Organization [OCL] of Franck Pierre asks the parliamentarians to make a ruling, to choose one of three resolutions resulting from the congresses and conferences held in the country recently -- that from the Committee of Actions for National Reconciliation, that from the Group of Citizens of the Greater North, and that from the private sector -- in order to achieve a happy way out of the crisis. [Begin Pierre recording, in Creole] We in the OCL ask all conscientious and nationalistic parliamentarians to choose one of these three resolutions that can (?contribute) to the welfare of the Haitian people. We in the OCL ask that the Haitian Army -- in the event that the parliament cannot do its job of choosing one of the three resolutions -- go into action and form a military junta. That military junta should (?direct) the National Palace so it can manage the Haitian crisis and lead the country properly until elections are held. [end recording]'"
      ]
     },
     "execution_count": 40,
     "metadata": {},
     "output_type": "execute_result"
    }
   ],
   "source": [
    "docid = \"FBIS3-10000\"\n",
    "folder = \"qrels.robust04.docids.txt_rawdocs.dump\"\n",
    "getdoc(docid, folder)"
   ]
  },
  {
   "cell_type": "code",
   "execution_count": 11,
   "metadata": {
    "collapsed": true
   },
   "outputs": [],
   "source": [
    "def split_train_dev_test(qid2query):\n",
    "    qid2query_train = {}\n",
    "    qid2query_dev = {}\n",
    "    qid2query_test = {}\n",
    "    count = 0\n",
    "    for qid in qid2query:\n",
    "        count += 1\n",
    "        if count % 10 == 0:\n",
    "            qid2query_dev[qid] = qid2query[qid]\n",
    "        elif count % 10 == 1:\n",
    "            qid2query_test[qid] = qid2query[qid]\n",
    "        else:\n",
    "            qid2query_train[qid] = qid2query[qid]\n",
    "    return qid2query_train, qid2query_dev, qid2query_test\n",
    "\n"
   ]
  },
  {
   "cell_type": "code",
   "execution_count": 12,
   "metadata": {
    "collapsed": true
   },
   "outputs": [],
   "source": [
    "qid2query_train, qid2query_dev, qid2query_test = split_train_dev_test(qid2query)"
   ]
  },
  {
   "cell_type": "code",
   "execution_count": 15,
   "metadata": {
    "collapsed": true
   },
   "outputs": [],
   "source": [
    "# f = open(\"run.robust04.bm25.topics.robust04.301-450.601-700.txt\")\n",
    "# f2 = open(\"run.robust04_test.bm25.topics.robust04.301-450.601-700.txt\", \"w\")\n",
    "f = open(\"run.simplesearcher.robust04.txt\")\n",
    "f2 = open(\"run.simplesearcher.robust04_test.txt\", \"w\")\n",
    "for l in f:\n",
    "    qid = l.split()[0]\n",
    "    qid = int(qid)\n",
    "    if qid in qid2query_test:\n",
    "        f2.write(l)\n",
    "f2.close()"
   ]
  },
  {
   "cell_type": "code",
   "execution_count": 55,
   "metadata": {
    "collapsed": true
   },
   "outputs": [],
   "source": [
    "f1 = open(\"src/main/python/rerank/MatchZoo/data/robust04/Robust04Corpus/qrels.txt\")\n",
    "f2 = open(\"src/main/python/rerank/MatchZoo/data/robust04/Robust04Corpus/ql.txt\")\n",
    "ftrain = open(\"src/main/python/rerank/MatchZoo/data/robust04/Robust04Corpus/train_qrels.txt\", \"w\")\n",
    "fdev = open(\"src/main/python/rerank/MatchZoo/data/robust04/Robust04Corpus/dev_ql.txt\", \"w\")\n",
    "ftest = open(\"src/main/python/rerank/MatchZoo/data/robust04/Robust04Corpus/test_ql.txt\", \"w\")\n",
    "for l in f1:\n",
    "    sim, a, b, qid, docid = l.replace(\"\\n\", \"\").split(\"\\t\")\n",
    "    qid = int(qid)\n",
    "    if qid in qid2query_train:\n",
    "        ftrain.write(l)\n",
    "for l in f2:\n",
    "    sim, a, b, qid, docid = l.replace(\"\\n\", \"\").split(\"\\t\")\n",
    "    qid = int(qid)\n",
    "    if qid in qid2query_dev:\n",
    "        fdev.write(l)\n",
    "    if qid in qid2query_test:\n",
    "        ftest.write(l)\n",
    "        \n",
    "ftrain.close()\n",
    "fdev.close()\n",
    "ftest.close()"
   ]
  },
  {
   "cell_type": "code",
   "execution_count": 1,
   "metadata": {
    "collapsed": true
   },
   "outputs": [],
   "source": [
    "qlen = []\n",
    "for qid in qid2query:\n",
    "    qlen.append(len(qid2query[qid].split()))\n",
    "    \n",
    "doclen = []\n",
    "f2 = open(\"src/main/python/rerank/MatchZoo/data/robust04/Robust04Corpus/ql.txt\")\n",
    "for l in f2:\n",
    "    sim, a, b, qid, docid = l.replace(\"\\n\", \"\").split(\"\\t\")\n",
    "    doclen.append(len(b.split()))\n",
    "    "
   ]
  },
  {
   "cell_type": "code",
   "execution_count": 28,
   "metadata": {
    "collapsed": true
   },
   "outputs": [],
   "source": [
    "def gen_qrel_data(f_input, f_output, doc_folder, remove_url=True, tokenize=True):\n",
    "    count = 0\n",
    "    with open(f_output, \"w\") as out, open(f_input) as f:\n",
    "        for l in f:\n",
    "            qid, _, docid, sim = l.replace(\"\\n\", \"\").split()\n",
    "            qid = int(qid)\n",
    "            if sim == \"2\":\n",
    "                sim = \"1\"\n",
    "            if sim == \"-2\":\n",
    "                sim = \"0\"\n",
    "            assert sim in [\"0\", \"1\"]\n",
    "            a = qid2query[qid]\n",
    "            try:\n",
    "                b = getdoc(docid, doc_folder)\n",
    "            except Exception as e:\n",
    "                count += 1\n",
    "                raise(e)\n",
    "                continue\n",
    "            if b is None:\n",
    "                continue\n",
    "            # remove characters that cannot be encoded by ASCII\n",
    "            b = \"\".join(filter(lambda x: x in printable, b))\n",
    "            if remove_url:\n",
    "                bs = []\n",
    "                for w in b.split():\n",
    "                    if not w.startswith(\"http\"):\n",
    "                        bs.append(w)\n",
    "                b = \" \".join(bs)\n",
    "            if tokenize:\n",
    "                b = ' '.join(word_tokenize(b))\n",
    "            out.write(\"{}\\t{}\\t{}\\t{}\\t{}\\n\".format(sim, a, b, qid, docid))\n",
    "            out.flush()\n",
    "    print(\"error docids: {}\".format(count))\n",
    "    "
   ]
  },
  {
   "cell_type": "markdown",
   "metadata": {},
   "source": [
    "```shell\n",
    "python run2docid.py # modify the path variable first\n",
    "sh target/appassembler/bin/IndexUtils \\\n",
    "-index /tuna1/indexes/lucene-index.mb11.pos+docvectors+rawdocs \\\n",
    "-dumpRawDocs run.mb11.ql.topics.microblog2011.docids.txt\n",
    "```"
   ]
  },
  {
   "cell_type": "markdown",
   "metadata": {},
   "source": [
    "## Test and evaluation\n",
    "```shell\n",
    "cd src/main/python/rerank/MatchZoo/data/tweets\n",
    "sh ./run_data.sh\n",
    "cd ../../\n",
    "python matchzoo/main.py --phase predict --model_file ./examples/tweets/config/duet_tweet.config\n",
    "cd ../../../../../\n",
    "./eval/trec_eval.9.0/trec_eval src/main/resources/topics-and-qrels/qrels.microblog2014.txt src/main/python/rerank/MatchZoo/data/tweets/predict.test.txt\n",
    "```    "
   ]
  },
  {
   "cell_type": "code",
   "execution_count": 6,
   "metadata": {
    "collapsed": true
   },
   "outputs": [],
   "source": [
    "# try IndexUtil\n",
    "year = 2014\n",
    "f = open(\"src/main/resources/topics-and-qrels/qrels.robust2004.txt\")\n",
    "with open(\"qrels.robust04.docids.txt\", \"w\") as out:\n",
    "    for l in f:\n",
    "        qid, _, docid, sim = l.replace(\"\\n\", \"\").split()\n",
    "        out.write(\"{}\\n\".format(docid))"
   ]
  },
  {
   "cell_type": "markdown",
   "metadata": {},
   "source": [
    "```shell\n",
    "sh target/appassembler/bin/IndexUtils \\\n",
    "-index /tuna1/indexes/lucene-index.robust04.pos+docvectors+rawdocs \\\n",
    "-dumpRawDocs qrels.robust04.docids.txt\n",
    "```"
   ]
  },
  {
   "cell_type": "code",
   "execution_count": 41,
   "metadata": {},
   "outputs": [
    {
     "name": "stdout",
     "output_type": "stream",
     "text": [
      "error docids: 0\n",
      "CPU times: user 8min 8s, sys: 25 s, total: 8min 33s\n",
      "Wall time: 16min 54s\n"
     ]
    }
   ],
   "source": [
    "%%time\n",
    "# generate data from qrels file\\\n",
    "qid2query = get_qid2query(ftopic)\n",
    "qid2reldocids = get_qid2reldocids(fqrel)\n",
    "f_output = \"src/main/python/rerank/MatchZoo/data/robust04/Robust04Corpus/qrels.txt\"\n",
    "doc_folder = \"qrels.robust04.docids.txt_rawdocs.dump\"\n",
    "gen_qrel_data(fqrel, f_output, doc_folder, tokenize=False, remove_url=False)\n"
   ]
  },
  {
   "cell_type": "markdown",
   "metadata": {},
   "source": [
    "```shell\n",
    "cd src/main/python/rerank/MatchZoo/data/tweets/TweetCorpus/\n",
    "cat train_qrels_2011.txt train_qrels_2012.txt train_qrels_2013.txt > train_qrels_2011_2012_2013_all.txt\n",
    "python split_train_dev.py\n",
    "```"
   ]
  },
  {
   "cell_type": "markdown",
   "metadata": {},
   "source": [
    "## Train\n",
    "```shell\n",
    "cd src/main/python/rerank/MatchZoo/data/tweets\n",
    "sh ./run_data.sh\n",
    "cd ../../\n",
    "python matchzoo/main.py --phase train --model_file ./examples/tweets/config/duet_tweet.config\n",
    "```\n"
   ]
  },
  {
   "cell_type": "code",
   "execution_count": 20,
   "metadata": {
    "collapsed": true
   },
   "outputs": [],
   "source": [
    "lens = []\n",
    "for qid in qid2query:\n",
    "    lens.append(len(qid2query[qid].split()))"
   ]
  },
  {
   "cell_type": "code",
   "execution_count": null,
   "metadata": {
    "collapsed": true
   },
   "outputs": [],
   "source": []
  }
 ],
 "metadata": {
  "kernelspec": {
   "display_name": "Python 3",
   "language": "python",
   "name": "python3"
  },
  "language_info": {
   "codemirror_mode": {
    "name": "ipython",
    "version": 3
   },
   "file_extension": ".py",
   "mimetype": "text/x-python",
   "name": "python",
   "nbconvert_exporter": "python",
   "pygments_lexer": "ipython3",
   "version": "3.6.3"
  }
 },
 "nbformat": 4,
 "nbformat_minor": 2
}
